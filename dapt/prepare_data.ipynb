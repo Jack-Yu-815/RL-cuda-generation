{
 "cells": [
  {
   "cell_type": "code",
   "execution_count": 22,
   "id": "e316b7db",
   "metadata": {},
   "outputs": [],
   "source": [
    "from datasets import load_dataset, concatenate_datasets"
   ]
  },
  {
   "cell_type": "code",
   "execution_count": null,
   "id": "ec6ad51b",
   "metadata": {},
   "outputs": [
    {
     "data": {
      "application/vnd.jupyter.widget-view+json": {
       "model_id": "db7e9768b660491795c3624503bdf51e",
       "version_major": 2,
       "version_minor": 0
      },
      "text/plain": [
       "Generating level_1 split:   0%|          | 0/12157 [00:00<?, ? examples/s]"
      ]
     },
     "metadata": {},
     "output_type": "display_data"
    },
    {
     "data": {
      "application/vnd.jupyter.widget-view+json": {
       "model_id": "2586a38c341e42d19533976a1262d009",
       "version_major": 2,
       "version_minor": 0
      },
      "text/plain": [
       "Generating level_2 split:   0%|          | 0/12938 [00:00<?, ? examples/s]"
      ]
     },
     "metadata": {},
     "output_type": "display_data"
    },
    {
     "data": {
      "application/vnd.jupyter.widget-view+json": {
       "model_id": "7e3501aae8794aff9e937b74e8d0b828",
       "version_major": 2,
       "version_minor": 0
      },
      "text/plain": [
       "Generating level_3 split:   0%|          | 0/5520 [00:00<?, ? examples/s]"
      ]
     },
     "metadata": {},
     "output_type": "display_data"
    },
    {
     "data": {
      "text/plain": [
       "DatasetDict({\n",
       "    level_1: Dataset({\n",
       "        features: ['Op_Name', 'Level_ID', 'Task_ID', 'Kernel_Name', 'CUDA_Runtime', 'PyTorch_Native_Runtime', 'PyTorch_Compile_Runtime', 'CUDA_Speedup_Native', 'CUDA_Speedup_Compile', 'CUDA_Code', 'PyTorch_Code_Module', 'PyTorch_Code_Functional', 'Correct', 'Max_Diff', 'Error', 'NCU_Profile', 'Torch_Profile', 'Clang_Tidy', '__index_level_0__'],\n",
       "        num_rows: 12157\n",
       "    })\n",
       "    level_2: Dataset({\n",
       "        features: ['Op_Name', 'Level_ID', 'Task_ID', 'Kernel_Name', 'CUDA_Runtime', 'PyTorch_Native_Runtime', 'PyTorch_Compile_Runtime', 'CUDA_Speedup_Native', 'CUDA_Speedup_Compile', 'CUDA_Code', 'PyTorch_Code_Module', 'PyTorch_Code_Functional', 'Correct', 'Max_Diff', 'Error', 'NCU_Profile', 'Torch_Profile', 'Clang_Tidy', '__index_level_0__'],\n",
       "        num_rows: 12938\n",
       "    })\n",
       "    level_3: Dataset({\n",
       "        features: ['Op_Name', 'Level_ID', 'Task_ID', 'Kernel_Name', 'CUDA_Runtime', 'PyTorch_Native_Runtime', 'PyTorch_Compile_Runtime', 'CUDA_Speedup_Native', 'CUDA_Speedup_Compile', 'CUDA_Code', 'PyTorch_Code_Module', 'PyTorch_Code_Functional', 'Correct', 'Max_Diff', 'Error', 'NCU_Profile', 'Torch_Profile', 'Clang_Tidy', '__index_level_0__'],\n",
       "        num_rows: 5520\n",
       "    })\n",
       "})"
      ]
     },
     "execution_count": 3,
     "metadata": {},
     "output_type": "execute_result"
    }
   ],
   "source": [
    "dataset = load_dataset('SakanaAI/AI-CUDA-Engineer-Archive', cache_dir='data')\n",
    "dataset"
   ]
  },
  {
   "cell_type": "code",
   "execution_count": 18,
   "id": "e118bba3",
   "metadata": {},
   "outputs": [
    {
     "data": {
      "application/vnd.jupyter.widget-view+json": {
       "model_id": "5aab7953f8ac4834951f6313dec26265",
       "version_major": 2,
       "version_minor": 0
      },
      "text/plain": [
       "Filter:   0%|          | 0/12157 [00:00<?, ? examples/s]"
      ]
     },
     "metadata": {},
     "output_type": "display_data"
    },
    {
     "data": {
      "application/vnd.jupyter.widget-view+json": {
       "model_id": "a5c9a7c3b42c40599219ecc8c6c23b10",
       "version_major": 2,
       "version_minor": 0
      },
      "text/plain": [
       "Filter:   0%|          | 0/12938 [00:00<?, ? examples/s]"
      ]
     },
     "metadata": {},
     "output_type": "display_data"
    },
    {
     "data": {
      "application/vnd.jupyter.widget-view+json": {
       "model_id": "31109757387247ac9477eae90151b9f3",
       "version_major": 2,
       "version_minor": 0
      },
      "text/plain": [
       "Filter:   0%|          | 0/5520 [00:00<?, ? examples/s]"
      ]
     },
     "metadata": {},
     "output_type": "display_data"
    },
    {
     "data": {
      "text/plain": [
       "DatasetDict({\n",
       "    level_1: Dataset({\n",
       "        features: ['Op_Name', 'Level_ID', 'Task_ID', 'Kernel_Name', 'CUDA_Runtime', 'PyTorch_Native_Runtime', 'PyTorch_Compile_Runtime', 'CUDA_Speedup_Native', 'CUDA_Speedup_Compile', 'CUDA_Code', 'PyTorch_Code_Module', 'PyTorch_Code_Functional', 'Correct', 'Max_Diff', 'Error', 'NCU_Profile', 'Torch_Profile', 'Clang_Tidy', '__index_level_0__'],\n",
       "        num_rows: 7222\n",
       "    })\n",
       "    level_2: Dataset({\n",
       "        features: ['Op_Name', 'Level_ID', 'Task_ID', 'Kernel_Name', 'CUDA_Runtime', 'PyTorch_Native_Runtime', 'PyTorch_Compile_Runtime', 'CUDA_Speedup_Native', 'CUDA_Speedup_Compile', 'CUDA_Code', 'PyTorch_Code_Module', 'PyTorch_Code_Functional', 'Correct', 'Max_Diff', 'Error', 'NCU_Profile', 'Torch_Profile', 'Clang_Tidy', '__index_level_0__'],\n",
       "        num_rows: 6988\n",
       "    })\n",
       "    level_3: Dataset({\n",
       "        features: ['Op_Name', 'Level_ID', 'Task_ID', 'Kernel_Name', 'CUDA_Runtime', 'PyTorch_Native_Runtime', 'PyTorch_Compile_Runtime', 'CUDA_Speedup_Native', 'CUDA_Speedup_Compile', 'CUDA_Code', 'PyTorch_Code_Module', 'PyTorch_Code_Functional', 'Correct', 'Max_Diff', 'Error', 'NCU_Profile', 'Torch_Profile', 'Clang_Tidy', '__index_level_0__'],\n",
       "        num_rows: 2249\n",
       "    })\n",
       "})"
      ]
     },
     "execution_count": 18,
     "metadata": {},
     "output_type": "execute_result"
    }
   ],
   "source": [
    "filtered = dataset.filter(lambda row: row[\"Correct\"])\n",
    "filtered"
   ]
  },
  {
   "cell_type": "code",
   "execution_count": 20,
   "id": "abf8d2a8",
   "metadata": {},
   "outputs": [
    {
     "data": {
      "application/vnd.jupyter.widget-view+json": {
       "model_id": "b768f910731b4e79b5a80c9906511b50",
       "version_major": 2,
       "version_minor": 0
      },
      "text/plain": [
       "Saving the dataset (0/1 shards):   0%|          | 0/7222 [00:00<?, ? examples/s]"
      ]
     },
     "metadata": {},
     "output_type": "display_data"
    },
    {
     "data": {
      "application/vnd.jupyter.widget-view+json": {
       "model_id": "1e59c5a781c645fdae475d9727369704",
       "version_major": 2,
       "version_minor": 0
      },
      "text/plain": [
       "Saving the dataset (0/1 shards):   0%|          | 0/6988 [00:00<?, ? examples/s]"
      ]
     },
     "metadata": {},
     "output_type": "display_data"
    },
    {
     "data": {
      "application/vnd.jupyter.widget-view+json": {
       "model_id": "8481664c0bf44f3ba62da50b314ffd05",
       "version_major": 2,
       "version_minor": 0
      },
      "text/plain": [
       "Saving the dataset (0/1 shards):   0%|          | 0/2249 [00:00<?, ? examples/s]"
      ]
     },
     "metadata": {},
     "output_type": "display_data"
    }
   ],
   "source": [
    "df = filtered.select_columns(['Op_Name', 'Kernel_Name', 'CUDA_Code'])\n",
    "df.save_to_disk('data/filtered_dataset')"
   ]
  },
  {
   "cell_type": "code",
   "execution_count": 21,
   "id": "644cc9b8",
   "metadata": {},
   "outputs": [
    {
     "data": {
      "text/plain": [
       "DatasetDict({\n",
       "    level_1: Dataset({\n",
       "        features: ['CUDA_Code'],\n",
       "        num_rows: 7222\n",
       "    })\n",
       "    level_2: Dataset({\n",
       "        features: ['CUDA_Code'],\n",
       "        num_rows: 6988\n",
       "    })\n",
       "    level_3: Dataset({\n",
       "        features: ['CUDA_Code'],\n",
       "        num_rows: 2249\n",
       "    })\n",
       "})"
      ]
     },
     "execution_count": 21,
     "metadata": {},
     "output_type": "execute_result"
    }
   ],
   "source": [
    "cuda_code = df.select_columns(['CUDA_Code'])\n",
    "cuda_code"
   ]
  },
  {
   "cell_type": "code",
   "execution_count": 24,
   "id": "f20b86d2",
   "metadata": {},
   "outputs": [
    {
     "data": {
      "text/plain": [
       "Dataset({\n",
       "    features: ['CUDA_Code'],\n",
       "    num_rows: 16459\n",
       "})"
      ]
     },
     "execution_count": 24,
     "metadata": {},
     "output_type": "execute_result"
    }
   ],
   "source": [
    "text_completion_dataset = concatenate_datasets([cuda_code['level_1'], cuda_code['level_2'], cuda_code['level_3']])\n",
    "text_completion_dataset"
   ]
  },
  {
   "cell_type": "code",
   "execution_count": 25,
   "id": "56ae9494",
   "metadata": {},
   "outputs": [
    {
     "data": {
      "application/vnd.jupyter.widget-view+json": {
       "model_id": "ae5dc02a7787446a824228d513a95830",
       "version_major": 2,
       "version_minor": 0
      },
      "text/plain": [
       "Saving the dataset (0/1 shards):   0%|          | 0/16459 [00:00<?, ? examples/s]"
      ]
     },
     "metadata": {},
     "output_type": "display_data"
    }
   ],
   "source": [
    "text_completion_dataset.save_to_disk('data/text_completion_dataset')"
   ]
  },
  {
   "cell_type": "code",
   "execution_count": 1,
   "id": "17f6ac93",
   "metadata": {},
   "outputs": [],
   "source": [
    "from transformers import AutoTokenizer\n",
    "from torchtune.datasets import text_completion_dataset\n",
    "\n",
    "tokenizer = AutoTokenizer.from_pretrained(\"meta-llama/Llama-3.1-8B-Instruct\")"
   ]
  },
  {
   "cell_type": "code",
   "execution_count": 8,
   "id": "77454ec8",
   "metadata": {},
   "outputs": [
    {
     "data": {
      "text/plain": [
       "<torchtune.datasets._text_completion.TextCompletionDataset at 0x7f86b9044110>"
      ]
     },
     "execution_count": 8,
     "metadata": {},
     "output_type": "execute_result"
    }
   ],
   "source": [
    "ds = text_completion_dataset(\n",
    "    tokenizer=tokenizer,\n",
    "    source=\"arrow\",\n",
    "    column=\"CUDA_Code\",\n",
    "    data_files=\"data/text_completion_dataset/data-00000-of-00001.arrow\"\n",
    ")\n",
    "\n",
    "ds"
   ]
  },
  {
   "cell_type": "code",
   "execution_count": 24,
   "id": "2ececa94",
   "metadata": {},
   "outputs": [
    {
     "name": "stdout",
     "output_type": "stream",
     "text": [
      "{'<|begin_of_text|>': 128000, '<|end_of_text|>': 128001, '<|reserved_special_token_0|>': 128002, '<|reserved_special_token_1|>': 128003, '<|finetune_right_pad_id|>': 128004, '<|step_id|>': 128005, '<|start_header_id|>': 128006, '<|end_header_id|>': 128007, '<|eom_id|>': 128008, '<|eot_id|>': 128009, '<|python_tag|>': 128010, '<|image|>': 128256, '<|video|>': 128012, '<|reserved_special_token_2|>': 128013, '<|reserved_special_token_3|>': 128014, '<|reserved_special_token_4|>': 128015, '<|reserved_special_token_5|>': 128016, '<|reserved_special_token_6|>': 128017, '<|reserved_special_token_7|>': 128018, '<|reserved_special_token_8|>': 128019, '<|reserved_special_token_9|>': 128020, '<|reserved_special_token_10|>': 128021, '<|reserved_special_token_11|>': 128022, '<|reserved_special_token_12|>': 128023, '<|reserved_special_token_13|>': 128024, '<|reserved_special_token_14|>': 128025, '<|reserved_special_token_15|>': 128026, '<|reserved_special_token_16|>': 128027, '<|reserved_special_token_17|>': 128028, '<|reserved_special_token_18|>': 128029, '<|reserved_special_token_19|>': 128030, '<|reserved_special_token_20|>': 128031, '<|reserved_special_token_21|>': 128032, '<|reserved_special_token_22|>': 128033, '<|reserved_special_token_23|>': 128034, '<|reserved_special_token_24|>': 128035, '<|reserved_special_token_25|>': 128036, '<|reserved_special_token_26|>': 128037, '<|reserved_special_token_27|>': 128038, '<|reserved_special_token_28|>': 128039, '<|reserved_special_token_29|>': 128040, '<|reserved_special_token_30|>': 128041, '<|reserved_special_token_31|>': 128042, '<|reserved_special_token_32|>': 128043, '<|reserved_special_token_33|>': 128044, '<|reserved_special_token_34|>': 128045, '<|reserved_special_token_35|>': 128046, '<|reserved_special_token_36|>': 128047, '<|reserved_special_token_37|>': 128048, '<|reserved_special_token_38|>': 128049, '<|reserved_special_token_39|>': 128050, '<|reserved_special_token_40|>': 128051, '<|reserved_special_token_41|>': 128052, '<|reserved_special_token_42|>': 128053, '<|reserved_special_token_43|>': 128054, '<|reserved_special_token_44|>': 128055, '<|reserved_special_token_45|>': 128056, '<|reserved_special_token_46|>': 128057, '<|reserved_special_token_47|>': 128058, '<|reserved_special_token_48|>': 128059, '<|reserved_special_token_49|>': 128060, '<|reserved_special_token_50|>': 128061, '<|reserved_special_token_51|>': 128062, '<|reserved_special_token_52|>': 128063, '<|reserved_special_token_53|>': 128064, '<|reserved_special_token_54|>': 128065, '<|reserved_special_token_55|>': 128066, '<|reserved_special_token_56|>': 128067, '<|reserved_special_token_57|>': 128068, '<|reserved_special_token_58|>': 128069, '<|reserved_special_token_59|>': 128070, '<|reserved_special_token_60|>': 128071, '<|reserved_special_token_61|>': 128072, '<|reserved_special_token_62|>': 128073, '<|reserved_special_token_63|>': 128074, '<|reserved_special_token_64|>': 128075, '<|reserved_special_token_65|>': 128076, '<|reserved_special_token_66|>': 128077, '<|reserved_special_token_67|>': 128078, '<|reserved_special_token_68|>': 128079, '<|reserved_special_token_69|>': 128080, '<|reserved_special_token_70|>': 128081, '<|reserved_special_token_71|>': 128082, '<|reserved_special_token_72|>': 128083, '<|reserved_special_token_73|>': 128084, '<|reserved_special_token_74|>': 128085, '<|reserved_special_token_75|>': 128086, '<|reserved_special_token_76|>': 128087, '<|reserved_special_token_77|>': 128088, '<|reserved_special_token_78|>': 128089, '<|reserved_special_token_79|>': 128090, '<|reserved_special_token_80|>': 128091, '<|reserved_special_token_81|>': 128092, '<|reserved_special_token_82|>': 128093, '<|reserved_special_token_83|>': 128094, '<|reserved_special_token_84|>': 128095, '<|reserved_special_token_85|>': 128096, '<|reserved_special_token_86|>': 128097, '<|reserved_special_token_87|>': 128098, '<|reserved_special_token_88|>': 128099, '<|reserved_special_token_89|>': 128100, '<|reserved_special_token_90|>': 128101, '<|reserved_special_token_91|>': 128102, '<|reserved_special_token_92|>': 128103, '<|reserved_special_token_93|>': 128104, '<|reserved_special_token_94|>': 128105, '<|reserved_special_token_95|>': 128106, '<|reserved_special_token_96|>': 128107, '<|reserved_special_token_97|>': 128108, '<|reserved_special_token_98|>': 128109, '<|reserved_special_token_99|>': 128110, '<|reserved_special_token_100|>': 128111, '<|reserved_special_token_101|>': 128112, '<|reserved_special_token_102|>': 128113, '<|reserved_special_token_103|>': 128114, '<|reserved_special_token_104|>': 128115, '<|reserved_special_token_105|>': 128116, '<|reserved_special_token_106|>': 128117, '<|reserved_special_token_107|>': 128118, '<|reserved_special_token_108|>': 128119, '<|reserved_special_token_109|>': 128120, '<|reserved_special_token_110|>': 128121, '<|reserved_special_token_111|>': 128122, '<|reserved_special_token_112|>': 128123, '<|reserved_special_token_113|>': 128124, '<|reserved_special_token_114|>': 128125, '<|reserved_special_token_115|>': 128126, '<|reserved_special_token_116|>': 128127, '<|reserved_special_token_117|>': 128128, '<|reserved_special_token_118|>': 128129, '<|reserved_special_token_119|>': 128130, '<|reserved_special_token_120|>': 128131, '<|reserved_special_token_121|>': 128132, '<|reserved_special_token_122|>': 128133, '<|reserved_special_token_123|>': 128134, '<|reserved_special_token_124|>': 128135, '<|reserved_special_token_125|>': 128136, '<|reserved_special_token_126|>': 128137, '<|reserved_special_token_127|>': 128138, '<|reserved_special_token_128|>': 128139, '<|reserved_special_token_129|>': 128140, '<|reserved_special_token_130|>': 128141, '<|reserved_special_token_131|>': 128142, '<|reserved_special_token_132|>': 128143, '<|reserved_special_token_133|>': 128144, '<|reserved_special_token_134|>': 128145, '<|reserved_special_token_135|>': 128146, '<|reserved_special_token_136|>': 128147, '<|reserved_special_token_137|>': 128148, '<|reserved_special_token_138|>': 128149, '<|reserved_special_token_139|>': 128150, '<|reserved_special_token_140|>': 128151, '<|reserved_special_token_141|>': 128152, '<|reserved_special_token_142|>': 128153, '<|reserved_special_token_143|>': 128154, '<|reserved_special_token_144|>': 128155, '<|reserved_special_token_145|>': 128156, '<|reserved_special_token_146|>': 128157, '<|reserved_special_token_147|>': 128158, '<|reserved_special_token_148|>': 128159, '<|reserved_special_token_149|>': 128160, '<|reserved_special_token_150|>': 128161, '<|reserved_special_token_151|>': 128162, '<|reserved_special_token_152|>': 128163, '<|reserved_special_token_153|>': 128164, '<|reserved_special_token_154|>': 128165, '<|reserved_special_token_155|>': 128166, '<|reserved_special_token_156|>': 128167, '<|reserved_special_token_157|>': 128168, '<|reserved_special_token_158|>': 128169, '<|reserved_special_token_159|>': 128170, '<|reserved_special_token_160|>': 128171, '<|reserved_special_token_161|>': 128172, '<|reserved_special_token_162|>': 128173, '<|reserved_special_token_163|>': 128174, '<|reserved_special_token_164|>': 128175, '<|reserved_special_token_165|>': 128176, '<|reserved_special_token_166|>': 128177, '<|reserved_special_token_167|>': 128178, '<|reserved_special_token_168|>': 128179, '<|reserved_special_token_169|>': 128180, '<|reserved_special_token_170|>': 128181, '<|reserved_special_token_171|>': 128182, '<|reserved_special_token_172|>': 128183, '<|reserved_special_token_173|>': 128184, '<|reserved_special_token_174|>': 128185, '<|reserved_special_token_175|>': 128186, '<|reserved_special_token_176|>': 128187, '<|reserved_special_token_177|>': 128188, '<|reserved_special_token_178|>': 128189, '<|reserved_special_token_179|>': 128190, '<|reserved_special_token_180|>': 128191, '<|reserved_special_token_181|>': 128192, '<|reserved_special_token_182|>': 128193, '<|reserved_special_token_183|>': 128194, '<|reserved_special_token_184|>': 128195, '<|reserved_special_token_185|>': 128196, '<|reserved_special_token_186|>': 128197, '<|reserved_special_token_187|>': 128198, '<|reserved_special_token_188|>': 128199, '<|reserved_special_token_189|>': 128200, '<|reserved_special_token_190|>': 128201, '<|reserved_special_token_191|>': 128202, '<|reserved_special_token_192|>': 128203, '<|reserved_special_token_193|>': 128204, '<|reserved_special_token_194|>': 128205, '<|reserved_special_token_195|>': 128206, '<|reserved_special_token_196|>': 128207, '<|reserved_special_token_197|>': 128208, '<|reserved_special_token_198|>': 128209, '<|reserved_special_token_199|>': 128210, '<|reserved_special_token_200|>': 128211, '<|reserved_special_token_201|>': 128212, '<|reserved_special_token_202|>': 128213, '<|reserved_special_token_203|>': 128214, '<|reserved_special_token_204|>': 128215, '<|reserved_special_token_205|>': 128216, '<|reserved_special_token_206|>': 128217, '<|reserved_special_token_207|>': 128218, '<|reserved_special_token_208|>': 128219, '<|reserved_special_token_209|>': 128220, '<|reserved_special_token_210|>': 128221, '<|reserved_special_token_211|>': 128222, '<|reserved_special_token_212|>': 128223, '<|reserved_special_token_213|>': 128224, '<|reserved_special_token_214|>': 128225, '<|reserved_special_token_215|>': 128226, '<|reserved_special_token_216|>': 128227, '<|reserved_special_token_217|>': 128228, '<|reserved_special_token_218|>': 128229, '<|reserved_special_token_219|>': 128230, '<|reserved_special_token_220|>': 128231, '<|reserved_special_token_221|>': 128232, '<|reserved_special_token_222|>': 128233, '<|reserved_special_token_223|>': 128234, '<|reserved_special_token_224|>': 128235, '<|reserved_special_token_225|>': 128236, '<|reserved_special_token_226|>': 128237, '<|reserved_special_token_227|>': 128238, '<|reserved_special_token_228|>': 128239, '<|reserved_special_token_229|>': 128240, '<|reserved_special_token_230|>': 128241, '<|reserved_special_token_231|>': 128242, '<|reserved_special_token_232|>': 128243, '<|reserved_special_token_233|>': 128244, '<|reserved_special_token_234|>': 128245, '<|reserved_special_token_235|>': 128246, '<|reserved_special_token_236|>': 128247, '<|reserved_special_token_237|>': 128248, '<|reserved_special_token_238|>': 128249, '<|reserved_special_token_239|>': 128250, '<|reserved_special_token_240|>': 128251, '<|reserved_special_token_241|>': 128252, '<|reserved_special_token_242|>': 128253, '<|reserved_special_token_243|>': 128254, '<|reserved_special_token_244|>': 128255}\n"
     ]
    }
   ],
   "source": [
    "from torchtune.models.llama3 import llama3_tokenizer\n",
    "\n",
    "tokenizer_path = \"/data/user_data/amittur/Llama-3.1-8B-Instruct/original/tokenizer.model\"\n",
    "\n",
    "tokenizer = llama3_tokenizer(\n",
    "    path=tokenizer_path\n",
    ")\n",
    "\n",
    "print(tokenizer.special_tokens)"
   ]
  },
  {
   "cell_type": "code",
   "execution_count": null,
   "id": "c94e8de7",
   "metadata": {},
   "outputs": [],
   "source": []
  }
 ],
 "metadata": {
  "kernelspec": {
   "display_name": "research",
   "language": "python",
   "name": "python3"
  },
  "language_info": {
   "codemirror_mode": {
    "name": "ipython",
    "version": 3
   },
   "file_extension": ".py",
   "mimetype": "text/x-python",
   "name": "python",
   "nbconvert_exporter": "python",
   "pygments_lexer": "ipython3",
   "version": "3.12.8"
  }
 },
 "nbformat": 4,
 "nbformat_minor": 5
}
